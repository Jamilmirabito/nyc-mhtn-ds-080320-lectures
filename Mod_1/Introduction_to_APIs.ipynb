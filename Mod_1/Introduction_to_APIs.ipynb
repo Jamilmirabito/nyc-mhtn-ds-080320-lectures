{
 "cells": [
  {
   "cell_type": "markdown",
   "metadata": {},
   "source": [
    "# JSON and APIs\n",
    "\n",
    "_August 11, 2020_\n",
    "\n",
    "Agenda today:\n",
    "- Introduction to API and Remote Server Model \n",
    "- Getting data through an API:\n",
    "    - Github API\n",
    "    - Yelp API\n",
    "- Working with JSON files"
   ]
  },
  {
   "cell_type": "code",
   "execution_count": 1,
   "metadata": {},
   "outputs": [
    {
     "name": "stdout",
     "output_type": "stream",
     "text": [
      "Requirement already satisfied: yelp in /opt/anaconda3/lib/python3.8/site-packages (1.0.2)\n",
      "Requirement already satisfied: oauth2 in /opt/anaconda3/lib/python3.8/site-packages (from yelp) (1.9.0.post1)\n",
      "Requirement already satisfied: httplib2 in /opt/anaconda3/lib/python3.8/site-packages (from yelp) (0.18.1)\n",
      "Requirement already satisfied: six in /opt/anaconda3/lib/python3.8/site-packages (from yelp) (1.15.0)\n",
      "Note: you may need to restart the kernel to use updated packages.\n"
     ]
    }
   ],
   "source": [
    "pip install yelp\n"
   ]
  },
  {
   "cell_type": "code",
   "execution_count": 50,
   "metadata": {},
   "outputs": [],
   "source": [
    "import pandas as pd\n",
    "import numpy as np\n",
    "import requests\n",
    "import json\n",
    "from yelp.client import Client\n",
    "import matplotlib.pyplot as plt\n",
    "%matplotlib inline\n",
    "plt.style.use('seaborn')"
   ]
  },
  {
   "cell_type": "markdown",
   "metadata": {},
   "source": [
    "## Part I. APIs and Remote Server Model\n",
    "API stands for Application Programming Interface. At some point or the other, large companies would build API for their products for their clients or internal use. It allows the company's application to communicate with another application. But what _exactly_ is an API?\n",
    "\n",
    "#### Remote server \n",
    "When we think about the world of Web, we can think of it as a collection of _servers_. And servers are nothing but huge computers that store a huge amount of data from users and are optimized to process requests. For example, when you type in www.facebook.com, your browser sends a _request_ to the Facebook server, and gets a response from the server, thus interpreting the code and displaying your homepage. \n",
    "\n",
    "In this case, your browser is the _client_, and Facebook’s server is an API. To put it broadly, whenever you visit a website, you are interacting with its API. However, an API isn’t the same as the remote server — rather it is the part of the server that receives __requests__ and sends __responses__.\n",
    "\n",
    "<img src='status-code.png' width = 500>"
   ]
  },
  {
   "cell_type": "markdown",
   "metadata": {},
   "source": [
    "## Part II. Getting Data Through APIs\n",
    "\n",
    "#### Github API\n",
    "Github API is an example of API that does not need _authentication_. You can send `GET` requests to the API and receive information.  \n",
    "\n",
    "The `get()` method send a request to Github's API, and stored information in a variable called `request`. Next, let's see if it's successful. "
   ]
  },
  {
   "cell_type": "code",
   "execution_count": 2,
   "metadata": {},
   "outputs": [],
   "source": [
    "request = requests.get('https://api.github.com')"
   ]
  },
  {
   "cell_type": "code",
   "execution_count": 7,
   "metadata": {},
   "outputs": [
    {
     "data": {
      "text/plain": [
       "200"
      ]
     },
     "execution_count": 7,
     "metadata": {},
     "output_type": "execute_result"
    }
   ],
   "source": [
    "request.status_code"
   ]
  },
  {
   "cell_type": "code",
   "execution_count": 8,
   "metadata": {},
   "outputs": [
    {
     "data": {
      "text/plain": [
       "'{\"current_user_url\":\"https://api.github.com/user\",\"current_user_authorizations_html_url\":\"https://github.com/settings/connections/applications{/client_id}\",\"authorizations_url\":\"https://api.github.com/authorizations\",\"code_search_url\":\"https://api.github.com/search/code?q={query}{&page,per_page,sort,order}\",\"commit_search_url\":\"https://api.github.com/search/commits?q={query}{&page,per_page,sort,order}\",\"emails_url\":\"https://api.github.com/user/emails\",\"emojis_url\":\"https://api.github.com/emojis\",\"events_url\":\"https://api.github.com/events\",\"feeds_url\":\"https://api.github.com/feeds\",\"followers_url\":\"https://api.github.com/user/followers\",\"following_url\":\"https://api.github.com/user/following{/target}\",\"gists_url\":\"https://api.github.com/gists{/gist_id}\",\"hub_url\":\"https://api.github.com/hub\",\"issue_search_url\":\"https://api.github.com/search/issues?q={query}{&page,per_page,sort,order}\",\"issues_url\":\"https://api.github.com/issues\",\"keys_url\":\"https://api.github.com/user/keys\",\"label_search_url\":\"https://api.github.com/search/labels?q={query}&repository_id={repository_id}{&page,per_page}\",\"notifications_url\":\"https://api.github.com/notifications\",\"organization_url\":\"https://api.github.com/orgs/{org}\",\"organization_repositories_url\":\"https://api.github.com/orgs/{org}/repos{?type,page,per_page,sort}\",\"organization_teams_url\":\"https://api.github.com/orgs/{org}/teams\",\"public_gists_url\":\"https://api.github.com/gists/public\",\"rate_limit_url\":\"https://api.github.com/rate_limit\",\"repository_url\":\"https://api.github.com/repos/{owner}/{repo}\",\"repository_search_url\":\"https://api.github.com/search/repositories?q={query}{&page,per_page,sort,order}\",\"current_user_repositories_url\":\"https://api.github.com/user/repos{?type,page,per_page,sort}\",\"starred_url\":\"https://api.github.com/user/starred{/owner}{/repo}\",\"starred_gists_url\":\"https://api.github.com/gists/starred\",\"user_url\":\"https://api.github.com/users/{user}\",\"user_organizations_url\":\"https://api.github.com/user/orgs\",\"user_repositories_url\":\"https://api.github.com/users/{user}/repos{?type,page,per_page,sort}\",\"user_search_url\":\"https://api.github.com/search/users?q={query}{&page,per_page,sort,order}\"}'"
      ]
     },
     "execution_count": 8,
     "metadata": {},
     "output_type": "execute_result"
    }
   ],
   "source": [
    "# examine the body of the request\n",
    "request.text"
   ]
  },
  {
   "cell_type": "code",
   "execution_count": 9,
   "metadata": {
    "scrolled": true
   },
   "outputs": [
    {
     "data": {
      "text/plain": [
       "b'{\"current_user_url\":\"https://api.github.com/user\",\"current_user_authorizations_html_url\":\"https://github.com/settings/connections/applications{/client_id}\",\"authorizations_url\":\"https://api.github.com/authorizations\",\"code_search_url\":\"https://api.github.com/search/code?q={query}{&page,per_page,sort,order}\",\"commit_search_url\":\"https://api.github.com/search/commits?q={query}{&page,per_page,sort,order}\",\"emails_url\":\"https://api.github.com/user/emails\",\"emojis_url\":\"https://api.github.com/emojis\",\"events_url\":\"https://api.github.com/events\",\"feeds_url\":\"https://api.github.com/feeds\",\"followers_url\":\"https://api.github.com/user/followers\",\"following_url\":\"https://api.github.com/user/following{/target}\",\"gists_url\":\"https://api.github.com/gists{/gist_id}\",\"hub_url\":\"https://api.github.com/hub\",\"issue_search_url\":\"https://api.github.com/search/issues?q={query}{&page,per_page,sort,order}\",\"issues_url\":\"https://api.github.com/issues\",\"keys_url\":\"https://api.github.com/user/keys\",\"label_search_url\":\"https://api.github.com/search/labels?q={query}&repository_id={repository_id}{&page,per_page}\",\"notifications_url\":\"https://api.github.com/notifications\",\"organization_url\":\"https://api.github.com/orgs/{org}\",\"organization_repositories_url\":\"https://api.github.com/orgs/{org}/repos{?type,page,per_page,sort}\",\"organization_teams_url\":\"https://api.github.com/orgs/{org}/teams\",\"public_gists_url\":\"https://api.github.com/gists/public\",\"rate_limit_url\":\"https://api.github.com/rate_limit\",\"repository_url\":\"https://api.github.com/repos/{owner}/{repo}\",\"repository_search_url\":\"https://api.github.com/search/repositories?q={query}{&page,per_page,sort,order}\",\"current_user_repositories_url\":\"https://api.github.com/user/repos{?type,page,per_page,sort}\",\"starred_url\":\"https://api.github.com/user/starred{/owner}{/repo}\",\"starred_gists_url\":\"https://api.github.com/gists/starred\",\"user_url\":\"https://api.github.com/users/{user}\",\"user_organizations_url\":\"https://api.github.com/user/orgs\",\"user_repositories_url\":\"https://api.github.com/users/{user}/repos{?type,page,per_page,sort}\",\"user_search_url\":\"https://api.github.com/search/users?q={query}{&page,per_page,sort,order}\"}'"
      ]
     },
     "execution_count": 9,
     "metadata": {},
     "output_type": "execute_result"
    }
   ],
   "source": [
    "# examine the content\n",
    "request.content"
   ]
  },
  {
   "cell_type": "code",
   "execution_count": 10,
   "metadata": {},
   "outputs": [
    {
     "data": {
      "text/plain": [
       "'GitHub.com'"
      ]
     },
     "execution_count": 10,
     "metadata": {},
     "output_type": "execute_result"
    }
   ],
   "source": [
    "# examine the headers\n",
    "request.headers['server']"
   ]
  },
  {
   "cell_type": "code",
   "execution_count": 11,
   "metadata": {},
   "outputs": [],
   "source": [
    "# we can make use of the JSON library to efficiently load the data and manipulate it \n",
    "request_json = json.loads(request.text)"
   ]
  },
  {
   "cell_type": "code",
   "execution_count": 12,
   "metadata": {
    "scrolled": true
   },
   "outputs": [
    {
     "data": {
      "text/plain": [
       "{'current_user_url': 'https://api.github.com/user',\n",
       " 'current_user_authorizations_html_url': 'https://github.com/settings/connections/applications{/client_id}',\n",
       " 'authorizations_url': 'https://api.github.com/authorizations',\n",
       " 'code_search_url': 'https://api.github.com/search/code?q={query}{&page,per_page,sort,order}',\n",
       " 'commit_search_url': 'https://api.github.com/search/commits?q={query}{&page,per_page,sort,order}',\n",
       " 'emails_url': 'https://api.github.com/user/emails',\n",
       " 'emojis_url': 'https://api.github.com/emojis',\n",
       " 'events_url': 'https://api.github.com/events',\n",
       " 'feeds_url': 'https://api.github.com/feeds',\n",
       " 'followers_url': 'https://api.github.com/user/followers',\n",
       " 'following_url': 'https://api.github.com/user/following{/target}',\n",
       " 'gists_url': 'https://api.github.com/gists{/gist_id}',\n",
       " 'hub_url': 'https://api.github.com/hub',\n",
       " 'issue_search_url': 'https://api.github.com/search/issues?q={query}{&page,per_page,sort,order}',\n",
       " 'issues_url': 'https://api.github.com/issues',\n",
       " 'keys_url': 'https://api.github.com/user/keys',\n",
       " 'label_search_url': 'https://api.github.com/search/labels?q={query}&repository_id={repository_id}{&page,per_page}',\n",
       " 'notifications_url': 'https://api.github.com/notifications',\n",
       " 'organization_url': 'https://api.github.com/orgs/{org}',\n",
       " 'organization_repositories_url': 'https://api.github.com/orgs/{org}/repos{?type,page,per_page,sort}',\n",
       " 'organization_teams_url': 'https://api.github.com/orgs/{org}/teams',\n",
       " 'public_gists_url': 'https://api.github.com/gists/public',\n",
       " 'rate_limit_url': 'https://api.github.com/rate_limit',\n",
       " 'repository_url': 'https://api.github.com/repos/{owner}/{repo}',\n",
       " 'repository_search_url': 'https://api.github.com/search/repositories?q={query}{&page,per_page,sort,order}',\n",
       " 'current_user_repositories_url': 'https://api.github.com/user/repos{?type,page,per_page,sort}',\n",
       " 'starred_url': 'https://api.github.com/user/starred{/owner}{/repo}',\n",
       " 'starred_gists_url': 'https://api.github.com/gists/starred',\n",
       " 'user_url': 'https://api.github.com/users/{user}',\n",
       " 'user_organizations_url': 'https://api.github.com/user/orgs',\n",
       " 'user_repositories_url': 'https://api.github.com/users/{user}/repos{?type,page,per_page,sort}',\n",
       " 'user_search_url': 'https://api.github.com/search/users?q={query}{&page,per_page,sort,order}'}"
      ]
     },
     "execution_count": 12,
     "metadata": {},
     "output_type": "execute_result"
    }
   ],
   "source": [
    "request_json"
   ]
  },
  {
   "cell_type": "code",
   "execution_count": 13,
   "metadata": {},
   "outputs": [
    {
     "name": "stdout",
     "output_type": "stream",
     "text": [
      "current_user_url\n",
      "current_user_authorizations_html_url\n",
      "authorizations_url\n",
      "code_search_url\n",
      "commit_search_url\n",
      "emails_url\n",
      "emojis_url\n",
      "events_url\n",
      "feeds_url\n",
      "followers_url\n",
      "following_url\n",
      "gists_url\n",
      "hub_url\n",
      "issue_search_url\n",
      "issues_url\n",
      "keys_url\n",
      "label_search_url\n",
      "notifications_url\n",
      "organization_url\n",
      "organization_repositories_url\n",
      "organization_teams_url\n",
      "public_gists_url\n",
      "rate_limit_url\n",
      "repository_url\n",
      "repository_search_url\n",
      "current_user_repositories_url\n",
      "starred_url\n",
      "starred_gists_url\n",
      "user_url\n",
      "user_organizations_url\n",
      "user_repositories_url\n",
      "user_search_url\n"
     ]
    }
   ],
   "source": [
    "# loop through the request_json file and examine the keys \n",
    "\n",
    "# how do you loop through the keys again?\n",
    "for key in request_json.keys():\n",
    "    print(key)"
   ]
  },
  {
   "cell_type": "code",
   "execution_count": 14,
   "metadata": {},
   "outputs": [
    {
     "data": {
      "text/html": [
       "<div>\n",
       "<style scoped>\n",
       "    .dataframe tbody tr th:only-of-type {\n",
       "        vertical-align: middle;\n",
       "    }\n",
       "\n",
       "    .dataframe tbody tr th {\n",
       "        vertical-align: top;\n",
       "    }\n",
       "\n",
       "    .dataframe thead th {\n",
       "        text-align: right;\n",
       "    }\n",
       "</style>\n",
       "<table border=\"1\" class=\"dataframe\">\n",
       "  <thead>\n",
       "    <tr style=\"text-align: right;\">\n",
       "      <th></th>\n",
       "      <th>url</th>\n",
       "    </tr>\n",
       "  </thead>\n",
       "  <tbody>\n",
       "    <tr>\n",
       "      <th>current_user_url</th>\n",
       "      <td>https://api.github.com/user</td>\n",
       "    </tr>\n",
       "    <tr>\n",
       "      <th>current_user_authorizations_html_url</th>\n",
       "      <td>https://github.com/settings/connections/applic...</td>\n",
       "    </tr>\n",
       "    <tr>\n",
       "      <th>authorizations_url</th>\n",
       "      <td>https://api.github.com/authorizations</td>\n",
       "    </tr>\n",
       "    <tr>\n",
       "      <th>code_search_url</th>\n",
       "      <td>https://api.github.com/search/code?q={query}{&amp;...</td>\n",
       "    </tr>\n",
       "    <tr>\n",
       "      <th>commit_search_url</th>\n",
       "      <td>https://api.github.com/search/commits?q={query...</td>\n",
       "    </tr>\n",
       "  </tbody>\n",
       "</table>\n",
       "</div>"
      ],
      "text/plain": [
       "                                                                                    url\n",
       "current_user_url                                            https://api.github.com/user\n",
       "current_user_authorizations_html_url  https://github.com/settings/connections/applic...\n",
       "authorizations_url                                https://api.github.com/authorizations\n",
       "code_search_url                       https://api.github.com/search/code?q={query}{&...\n",
       "commit_search_url                     https://api.github.com/search/commits?q={query..."
      ]
     },
     "execution_count": 14,
     "metadata": {},
     "output_type": "execute_result"
    }
   ],
   "source": [
    "# can you think of a way in which you'd put them in a dataframe?\n",
    "request_df = pd.DataFrame.from_dict(request_json, orient='index')\n",
    "request_df.columns = ['url']\n",
    "request_df.head()"
   ]
  },
  {
   "cell_type": "markdown",
   "metadata": {},
   "source": [
    "#### YELP API\n",
    "Sometimes you need _authentication_ to get data from a service in additional to just sending a `GET()` request. Yelp API is a perfect example. \n",
    "\n",
    "You will need to go to the YELP's developer's [website](https://www.yelp.com/developers/v3/manage_app) and request for a client ID and API key, which function like a key into a house of data. \n",
    "\n",
    "<img src='yelp.png' width = 500>"
   ]
  },
  {
   "cell_type": "code",
   "execution_count": 4,
   "metadata": {},
   "outputs": [],
   "source": [
    "import json\n",
    "\n",
    "def get_keys(path):\n",
    "    with open(path) as f:\n",
    "        return json.load(f)"
   ]
  },
  {
   "cell_type": "code",
   "execution_count": 5,
   "metadata": {},
   "outputs": [],
   "source": [
    "# lets try to get some data from yelp!\n",
    "url = 'https://api.yelp.com/v3/businesses/search'\n",
    "response = requests.get(url)"
   ]
  },
  {
   "cell_type": "code",
   "execution_count": 16,
   "metadata": {},
   "outputs": [
    {
     "data": {
      "text/plain": [
       "400"
      ]
     },
     "execution_count": 16,
     "metadata": {},
     "output_type": "execute_result"
    }
   ],
   "source": [
    "# check the status code\n",
    "response.status_code\n",
    "\n",
    "# what happened here?"
   ]
  },
  {
   "cell_type": "code",
   "execution_count": 11,
   "metadata": {},
   "outputs": [],
   "source": [
    "#You have to use your API key to access the data!\n",
    "MY_API_KEY = \"DvSZtxbQtuQtdSIUsBZ_I60vqchaNc6c9YXWB1m63gqUEKjRthr6PbJBOPBBofWbR0urBBbjVrkN7zoiu4KvvQCRX8_2PV-aW92xG7jmsQLm7VgtoCzU4yZ0WeUyX3Yx\"\n",
    "client = Client(MY_API_KEY)"
   ]
  },
  {
   "cell_type": "code",
   "execution_count": 89,
   "metadata": {},
   "outputs": [
    {
     "name": "stdout",
     "output_type": "stream",
     "text": [
      "<Response [200]>\n",
      "<class 'str'>\n",
      "{\"businesses\": [{\"id\": \"C-8mGN7lt5rIraO5n-15ug\", \"alias\": \"the-smith-new-york-2\", \"name\": \"The Smith\", \"image_url\": \"https://s3-media2.fl.yelpcdn.com/bphoto/mnScad8YPOiMzu3wN8wyzQ/o.jpg\", \"is_closed\": false, \"url\": \"https://www.yelp.com/biz/the-smith-new-york-2?adjust_creative=Wz4GJ_ekQQXft2olDJiLEQ&utm_campaign=yelp_api_v3&utm_medium=api_v3_business_search&utm_source=Wz4GJ_ekQQXft2olDJiLEQ\", \"review_count\": 2637, \"categories\": [{\"alias\": \"newamerican\", \"title\": \"American (New)\"}, {\"alias\": \"breakfast_brunch\", \"title\": \"Breakfast & Brunch\"}, {\"alias\": \"cocktailbars\", \"title\": \"Cocktail Bars\"}], \"rating\": 4.0, \"coordinates\": {\"latitude\": 40.755165, \"longitude\": -73.967868}, \"transactions\": [\"delivery\", \"pickup\"], \"price\": \"$$\", \"location\": {\"address1\": \"956 2nd Ave\", \"address2\": \"\", \"address3\": \"\", \"city\": \"New York\", \"zip_code\": \"10022\", \"country\": \"US\", \"state\": \"NY\", \"display_address\": [\"956 2nd Ave\", \"New York, NY 10022\"]}, \"phone\": \"+12126442700\", \"display_phone\": \"(212) 644-2700\", \"distance\": 1057.0229649315834}, {\"id\": \"cCesIqo-LQt0cRlZAnrAZQ\", \"alias\": \"friedmans-new-york-59\", \"name\": \"Friedman's\", \"image_url\": \"https://s3-media1.fl.yelpcdn.com/bphoto/c9vZKJbtXkBQxZ8yUOMO8A/o.jpg\", \"is_closed\": false, \"url\": \"https://www.yelp.com/biz/friedmans-new-york-59?adjust_creative=Wz4GJ_ekQQXft2olDJiLEQ&utm_campaign=yelp_api_v3&utm_medium=api_v3_business_search&utm_source=Wz4GJ_ekQQXft2olDJiLEQ\", \"review_count\": 2451, \"categories\": [{\"alias\": \"newamerican\", \"title\": \"American (New)\"}, {\"alias\": \"gluten_free\", \"title\": \"Gluten-Free\"}, {\"alias\": \"breakfast_brunch\", \"title\": \"Breakfast & Brunch\"}], \"rating\": 4.0, \"coordinates\": {\"latitude\": 40.748297, \"longitude\": -73.990649}, \"transactions\": [\"delivery\", \"pickup\"], \"price\": \"$$\", \"location\": {\"address1\": \"132 W 31st St\", \"address2\": \"\", \"address3\": \"\", \"city\": \"New York\", \"zip_code\": \"10001\", \"country\": \"US\", \"state\": \"NY\", \"display_address\": [\"132 W 31st St\", \"New York, NY 10001\"]}, \"phone\": \"+12129719400\", \"display_phone\": \"(212) 971-9400\", \"distance\": 1674.314433258783}, {\"id\": \"uoT2_Wrt1noD6kZOID7tUg\", \"alias\": \"jane-new-york-2\", \"name\": \"Jane\", \"image_url\": \"https://s3-media1.fl.yelpcdn.com/bphoto/J6okAAFQ8KJcfGrFsaQb-Q/o.jpg\", \"is_closed\": false, \"url\": \"https://www.yelp.com/biz/jane-new-york-2?adjust_creative=Wz4GJ_ekQQXft2olDJiLEQ&utm_campaign=yelp_api_v3&utm_medium=api_v3_business_search&utm_source=Wz4GJ_ekQQXft2olDJiLEQ\", \"review_count\": 3152, \"categories\": [{\"alias\": \"breakfast_brunch\", \"title\": \"Breakfast & Brunch\"}, {\"alias\": \"newamerican\", \"title\": \"American (New)\"}, {\"alias\": \"bars\", \"title\": \"Bars\"}], \"rating\": 4.0, \"coordinates\": {\"latitude\": 40.72732, \"longitude\": -74.00026}, \"transactions\": [\"delivery\", \"pickup\"], \"price\": \"$$\", \"location\": {\"address1\": \"100 W Houston St\", \"address2\": \"\", \"address3\": \"\", \"city\": \"New York\", \"zip_code\": \"10012\", \"country\": \"US\", \"state\": \"NY\", \"display_address\": [\"100 W Houston St\", \"New York, NY 10012\"]}, \"phone\": \"+12122547000\", \"display_phone\": \"(212) 254-7000\", \"distance\": 4083.282655566645}, {\"id\": \"Me4TxTbPPQZQopW1wOGx5g\", \"alias\": \"jacks-wife-freda-new-york\", \"name\": \"Jack's Wife Freda\", \"image_url\": \"https://s3-media2.fl.yelpcdn.com/bphoto/Va1x-2UgWhJ0OfaEnrnJZQ/o.jpg\", \"is_closed\": false, \"url\": \"https://www.yelp.com/biz/jacks-wife-freda-new-york?adjust_creative=Wz4GJ_ekQQXft2olDJiLEQ&utm_campaign=yelp_api_v3&utm_medium=api_v3_business_search&utm_source=Wz4GJ_ekQQXft2olDJiLEQ\", \"review_count\": 1902, \"categories\": [{\"alias\": \"breakfast_brunch\", \"title\": \"Breakfast & Brunch\"}, {\"alias\": \"mediterranean\", \"title\": \"Mediterranean\"}, {\"alias\": \"newamerican\", \"title\": \"American (New)\"}], \"rating\": 4.0, \"coordinates\": {\"latitude\": 40.72213, \"longitude\": -73.99756}, \"transactions\": [], \"price\": \"$$\", \"location\": {\"address1\": \"224 Lafayette St\", \"address2\": \"\", \"address3\": \"\", \"city\": \"New York\", \"zip_code\": \"10012\", \"country\": \"US\", \"state\": \"NY\", \"display_address\": [\"224 Lafayette St\", \"New York, NY 10012\"]}, \"phone\": \"+12125108550\", \"display_phone\": \"(212) 510-8550\", \"distance\": 4528.804322599037}, {\"id\": \"FrYsIO_pXB6csWkvy-nfbQ\", \"alias\": \"made-in-mexico-harlem-new-york\", \"name\": \"Made In Mexico Harlem\", \"image_url\": \"https://s3-media1.fl.yelpcdn.com/bphoto/YjxH7bDbc01yzAajPdgPcA/o.jpg\", \"is_closed\": false, \"url\": \"https://www.yelp.com/biz/made-in-mexico-harlem-new-york?adjust_creative=Wz4GJ_ekQQXft2olDJiLEQ&utm_campaign=yelp_api_v3&utm_medium=api_v3_business_search&utm_source=Wz4GJ_ekQQXft2olDJiLEQ\", \"review_count\": 113, \"categories\": [{\"alias\": \"cocktailbars\", \"title\": \"Cocktail Bars\"}, {\"alias\": \"mexican\", \"title\": \"Mexican\"}], \"rating\": 3.5, \"coordinates\": {\"latitude\": 40.7940072130959, \"longitude\": -73.9402346313}, \"transactions\": [\"delivery\", \"pickup\"], \"price\": \"$$\", \"location\": {\"address1\": \"2161 2nd Ave\", \"address2\": \"\", \"address3\": null, \"city\": \"New York\", \"zip_code\": \"10029\", \"country\": \"US\", \"state\": \"NY\", \"display_address\": [\"2161 2nd Ave\", \"New York, NY 10029\"]}, \"phone\": \"+19172658408\", \"display_phone\": \"(917) 265-8408\", \"distance\": 4949.834794436567}, {\"id\": \"KF4dTBX9ITMTSjwEXxXZ6g\", \"alias\": \"friedmans-new-york-68\", \"name\": \"Friedman's\", \"image_url\": \"https://s3-media3.fl.yelpcdn.com/bphoto/WBB691dFMQMa5OBvhLkReg/o.jpg\", \"is_closed\": false, \"url\": \"https://www.yelp.com/biz/friedmans-new-york-68?adjust_creative=Wz4GJ_ekQQXft2olDJiLEQ&utm_campaign=yelp_api_v3&utm_medium=api_v3_business_search&utm_source=Wz4GJ_ekQQXft2olDJiLEQ\", \"review_count\": 132, \"categories\": [{\"alias\": \"breakfast_brunch\", \"title\": \"Breakfast & Brunch\"}, {\"alias\": \"newamerican\", \"title\": \"American (New)\"}, {\"alias\": \"burgers\", \"title\": \"Burgers\"}], \"rating\": 4.0, \"coordinates\": {\"latitude\": 40.77775, \"longitude\": -73.98003}, \"transactions\": [\"delivery\", \"pickup\"], \"price\": \"$$\", \"location\": {\"address1\": \"130 W 72nd St\", \"address2\": \"\", \"address3\": null, \"city\": \"New York\", \"zip_code\": \"10023\", \"country\": \"US\", \"state\": \"NY\", \"display_address\": [\"130 W 72nd St\", \"New York, NY 10023\"]}, \"phone\": \"+16468642289\", \"display_phone\": \"(646) 864-2289\", \"distance\": 1952.139390141725}, {\"id\": \"JXcYD52B4190gIh6_RSXCg\", \"alias\": \"lillys-craft-and-kitchen-new-york\", \"name\": \"Lilly's Craft and Kitchen\", \"image_url\": \"https://s3-media2.fl.yelpcdn.com/bphoto/M9xP4V9f8ZQe2TOtGVnNNg/o.jpg\", \"is_closed\": false, \"url\": \"https://www.yelp.com/biz/lillys-craft-and-kitchen-new-york?adjust_creative=Wz4GJ_ekQQXft2olDJiLEQ&utm_campaign=yelp_api_v3&utm_medium=api_v3_business_search&utm_source=Wz4GJ_ekQQXft2olDJiLEQ\", \"review_count\": 1009, \"categories\": [{\"alias\": \"bars\", \"title\": \"Bars\"}, {\"alias\": \"newamerican\", \"title\": \"American (New)\"}, {\"alias\": \"breakfast_brunch\", \"title\": \"Breakfast & Brunch\"}], \"rating\": 4.0, \"coordinates\": {\"latitude\": 40.76138, \"longitude\": -73.99071}, \"transactions\": [\"pickup\", \"delivery\"], \"price\": \"$$\", \"location\": {\"address1\": \"675 9th Ave\", \"address2\": \"\", \"address3\": \"\", \"city\": \"New York\", \"zip_code\": \"10036\", \"country\": \"US\", \"state\": \"NY\", \"display_address\": [\"675 9th Ave\", \"New York, NY 10036\"]}, \"phone\": \"+12127570373\", \"display_phone\": \"(212) 757-0373\", \"distance\": 1038.8184233125924}, {\"id\": \"0moBSyrTezcT3uePV74nug\", \"alias\": \"westville-hells-kitchen-new-york\", \"name\": \"Westville Hell's Kitchen\", \"image_url\": \"https://s3-media3.fl.yelpcdn.com/bphoto/oEica-EOQV47DPwr3HFgNA/o.jpg\", \"is_closed\": false, \"url\": \"https://www.yelp.com/biz/westville-hells-kitchen-new-york?adjust_creative=Wz4GJ_ekQQXft2olDJiLEQ&utm_campaign=yelp_api_v3&utm_medium=api_v3_business_search&utm_source=Wz4GJ_ekQQXft2olDJiLEQ\", \"review_count\": 128, \"categories\": [{\"alias\": \"newamerican\", \"title\": \"American (New)\"}, {\"alias\": \"breakfast_brunch\", \"title\": \"Breakfast & Brunch\"}], \"rating\": 4.5, \"coordinates\": {\"latitude\": 40.76577, \"longitude\": -73.9875}, \"transactions\": [\"delivery\", \"pickup\"], \"price\": \"$$\", \"location\": {\"address1\": \"809 9th Ave\", \"address2\": null, \"address3\": \"\", \"city\": \"New York\", \"zip_code\": \"10019\", \"country\": \"US\", \"state\": \"NY\", \"display_address\": [\"809 9th Ave\", \"New York, NY 10019\"]}, \"phone\": \"+12129242202\", \"display_phone\": \"(212) 924-2202\", \"distance\": 985.4124538086529}, {\"id\": \"lhEzTykkqFz92Vq2uILtyw\", \"alias\": \"the-wren-new-york\", \"name\": \"The Wren\", \"image_url\": \"https://s3-media4.fl.yelpcdn.com/bphoto/jk3T6zfuykMvzyfQfkZw5g/o.jpg\", \"is_closed\": false, \"url\": \"https://www.yelp.com/biz/the-wren-new-york?adjust_creative=Wz4GJ_ekQQXft2olDJiLEQ&utm_campaign=yelp_api_v3&utm_medium=api_v3_business_search&utm_source=Wz4GJ_ekQQXft2olDJiLEQ\", \"review_count\": 553, \"categories\": [{\"alias\": \"bars\", \"title\": \"Bars\"}, {\"alias\": \"breakfast_brunch\", \"title\": \"Breakfast & Brunch\"}, {\"alias\": \"venues\", \"title\": \"Venues & Event Spaces\"}], \"rating\": 4.0, \"coordinates\": {\"latitude\": 40.7263350655, \"longitude\": -73.9920476876}, \"transactions\": [], \"price\": \"$$\", \"location\": {\"address1\": \"344 Bowery\", \"address2\": \"\", \"address3\": \"\", \"city\": \"New York\", \"zip_code\": \"10012\", \"country\": \"US\", \"state\": \"NY\", \"display_address\": [\"344 Bowery\", \"New York, NY 10012\"]}, \"phone\": \"+12123880148\", \"display_phone\": \"(212) 388-0148\", \"distance\": 3936.349270252956}, {\"id\": \"kmcgUxWhwlbmC-FAMTEF2g\", \"alias\": \"caf\\u00e9-d-alsace-new-york-2\", \"name\": \"Caf\\u00e9 D'Alsace\", \"image_url\": \"https://s3-media1.fl.yelpcdn.com/bphoto/VR3Zlw9vTGVKwyLlYR7dQw/o.jpg\", \"is_closed\": false, \"url\": \"https://www.yelp.com/biz/caf%C3%A9-d-alsace-new-york-2?adjust_creative=Wz4GJ_ekQQXft2olDJiLEQ&utm_campaign=yelp_api_v3&utm_medium=api_v3_business_search&utm_source=Wz4GJ_ekQQXft2olDJiLEQ\", \"review_count\": 1201, \"categories\": [{\"alias\": \"french\", \"title\": \"French\"}, {\"alias\": \"breakfast_brunch\", \"title\": \"Breakfast & Brunch\"}, {\"alias\": \"cafes\", \"title\": \"Cafes\"}], \"rating\": 4.0, \"coordinates\": {\"latitude\": 40.77916, \"longitude\": -73.95104}, \"transactions\": [\"pickup\", \"delivery\"], \"price\": \"$$\", \"location\": {\"address1\": \"1695 2nd Ave\", \"address2\": null, \"address3\": \"\", \"city\": \"New York\", \"zip_code\": \"10128\", \"country\": \"US\", \"state\": \"NY\", \"display_address\": [\"1695 2nd Ave\", \"New York, NY 10128\"]}, \"phone\": \"+12127225133\", \"display_phone\": \"(212) 722-5133\", \"distance\": 3126.3262770043416}, {\"id\": \"vZevXSC1w27dEvXc2EHCEg\", \"alias\": \"good-thanks-nyc-new-york\", \"name\": \"Good Thanks NYC\", \"image_url\": \"https://s3-media3.fl.yelpcdn.com/bphoto/TfUWHyOW4ULuphEdJROkaw/o.jpg\", \"is_closed\": false, \"url\": \"https://www.yelp.com/biz/good-thanks-nyc-new-york?adjust_creative=Wz4GJ_ekQQXft2olDJiLEQ&utm_campaign=yelp_api_v3&utm_medium=api_v3_business_search&utm_source=Wz4GJ_ekQQXft2olDJiLEQ\", \"review_count\": 173, \"categories\": [{\"alias\": \"cafes\", \"title\": \"Cafes\"}, {\"alias\": \"coffee\", \"title\": \"Coffee & Tea\"}, {\"alias\": \"breakfast_brunch\", \"title\": \"Breakfast & Brunch\"}], \"rating\": 4.5, \"coordinates\": {\"latitude\": 40.71972, \"longitude\": -73.98952}, \"transactions\": [\"delivery\", \"pickup\"], \"price\": \"$$\", \"location\": {\"address1\": \"131A Orchard St\", \"address2\": null, \"address3\": null, \"city\": \"New York\", \"zip_code\": \"10002\", \"country\": \"US\", \"state\": \"NY\", \"display_address\": [\"131A Orchard St\", \"New York, NY 10002\"]}, \"phone\": \"\", \"display_phone\": \"\", \"distance\": 4594.8279058816615}, {\"id\": \"IGZkGbwE36iE1yaDW5NNKA\", \"alias\": \"the-flying-cock-new-york-2\", \"name\": \"The Flying Cock\", \"image_url\": \"https://s3-media3.fl.yelpcdn.com/bphoto/hcXzSbg7I_BHokEr7r4rWQ/o.jpg\", \"is_closed\": false, \"url\": \"https://www.yelp.com/biz/the-flying-cock-new-york-2?adjust_creative=Wz4GJ_ekQQXft2olDJiLEQ&utm_campaign=yelp_api_v3&utm_medium=api_v3_business_search&utm_source=Wz4GJ_ekQQXft2olDJiLEQ\", \"review_count\": 565, \"categories\": [{\"alias\": \"pubs\", \"title\": \"Pubs\"}, {\"alias\": \"breakfast_brunch\", \"title\": \"Breakfast & Brunch\"}], \"rating\": 4.0, \"coordinates\": {\"latitude\": 40.745296, \"longitude\": -73.978073}, \"transactions\": [\"pickup\", \"restaurant_reservation\", \"delivery\"], \"price\": \"$$\", \"location\": {\"address1\": \"497 3rd Ave\", \"address2\": \"\", \"address3\": \"\", \"city\": \"New York\", \"zip_code\": \"10016\", \"country\": \"US\", \"state\": \"NY\", \"display_address\": [\"497 3rd Ave\", \"New York, NY 10016\"]}, \"phone\": \"+12126896900\", \"display_phone\": \"(212) 689-6900\", \"distance\": 1659.3884916374855}, {\"id\": \"6hKJePanmG9AxK4dfwgyyg\", \"alias\": \"the-horny-ram-new-york-2\", \"name\": \"The Horny Ram\", \"image_url\": \"https://s3-media1.fl.yelpcdn.com/bphoto/4WxHRnxe-Kj5UpuC9xzdDA/o.jpg\", \"is_closed\": false, \"url\": \"https://www.yelp.com/biz/the-horny-ram-new-york-2?adjust_creative=Wz4GJ_ekQQXft2olDJiLEQ&utm_campaign=yelp_api_v3&utm_medium=api_v3_business_search&utm_source=Wz4GJ_ekQQXft2olDJiLEQ\", \"review_count\": 477, \"categories\": [{\"alias\": \"newamerican\", \"title\": \"American (New)\"}, {\"alias\": \"venues\", \"title\": \"Venues & Event Spaces\"}, {\"alias\": \"gastropubs\", \"title\": \"Gastropubs\"}], \"rating\": 4.0, \"coordinates\": {\"latitude\": 40.75528, \"longitude\": -73.96857}, \"transactions\": [\"restaurant_reservation\", \"delivery\", \"pickup\"], \"price\": \"$$\", \"location\": {\"address1\": \"951 2nd Ave\", \"address2\": \"\", \"address3\": null, \"city\": \"New York\", \"zip_code\": \"10022\", \"country\": \"US\", \"state\": \"NY\", \"display_address\": [\"951 2nd Ave\", \"New York, NY 10022\"]}, \"phone\": \"+19172614136\", \"display_phone\": \"(917) 261-4136\", \"distance\": 1001.2142603133041}, {\"id\": \"L7_MTRZyYp_i-cnH2CU4zQ\", \"alias\": \"dudleys-new-york\", \"name\": \"Dudley's\", \"image_url\": \"https://s3-media2.fl.yelpcdn.com/bphoto/tb2o2fZuYBN0ikFiQt5u2Q/o.jpg\", \"is_closed\": false, \"url\": \"https://www.yelp.com/biz/dudleys-new-york?adjust_creative=Wz4GJ_ekQQXft2olDJiLEQ&utm_campaign=yelp_api_v3&utm_medium=api_v3_business_search&utm_source=Wz4GJ_ekQQXft2olDJiLEQ\", \"review_count\": 714, \"categories\": [{\"alias\": \"cafes\", \"title\": \"Cafes\"}, {\"alias\": \"breakfast_brunch\", \"title\": \"Breakfast & Brunch\"}, {\"alias\": \"cocktailbars\", \"title\": \"Cocktail Bars\"}], \"rating\": 4.0, \"coordinates\": {\"latitude\": 40.71798, \"longitude\": -73.99042}, \"transactions\": [\"delivery\", \"pickup\"], \"price\": \"$$\", \"location\": {\"address1\": \"85 Orchard St\", \"address2\": null, \"address3\": \"\", \"city\": \"New York\", \"zip_code\": \"10002\", \"country\": \"US\", \"state\": \"NY\", \"display_address\": [\"85 Orchard St\", \"New York, NY 10002\"]}, \"phone\": \"+12129257355\", \"display_phone\": \"(212) 925-7355\", \"distance\": 4806.952527894401}, {\"id\": \"J9xVQScnr0lYWl61_mLXMA\", \"alias\": \"lido-new-york\", \"name\": \"Lido\", \"image_url\": \"https://s3-media4.fl.yelpcdn.com/bphoto/nlJAMT6QJfZW54wd9Id-0g/o.jpg\", \"is_closed\": false, \"url\": \"https://www.yelp.com/biz/lido-new-york?adjust_creative=Wz4GJ_ekQQXft2olDJiLEQ&utm_campaign=yelp_api_v3&utm_medium=api_v3_business_search&utm_source=Wz4GJ_ekQQXft2olDJiLEQ\", \"review_count\": 985, \"categories\": [{\"alias\": \"italian\", \"title\": \"Italian\"}, {\"alias\": \"breakfast_brunch\", \"title\": \"Breakfast & Brunch\"}, {\"alias\": \"cocktailbars\", \"title\": \"Cocktail Bars\"}], \"rating\": 4.0, \"coordinates\": {\"latitude\": 40.8049797781916, \"longitude\": -73.9548260014624}, \"transactions\": [\"delivery\", \"pickup\"], \"price\": \"$$\", \"location\": {\"address1\": \"2168 Frederick Douglass Blvd\", \"address2\": \"\", \"address3\": \"\", \"city\": \"New York\", \"zip_code\": \"10026\", \"country\": \"US\", \"state\": \"NY\", \"display_address\": [\"2168 Frederick Douglass Blvd\", \"New York, NY 10026\"]}, \"phone\": \"+16464908575\", \"display_phone\": \"(646) 490-8575\", \"distance\": 5361.893035878774}, {\"id\": \"ssGhu4n3emZ9kEPVf371IQ\", \"alias\": \"cookshop-new-york\", \"name\": \"Cookshop\", \"image_url\": \"https://s3-media3.fl.yelpcdn.com/bphoto/PgQtbdoMTIaWFstO1wvJLQ/o.jpg\", \"is_closed\": false, \"url\": \"https://www.yelp.com/biz/cookshop-new-york?adjust_creative=Wz4GJ_ekQQXft2olDJiLEQ&utm_campaign=yelp_api_v3&utm_medium=api_v3_business_search&utm_source=Wz4GJ_ekQQXft2olDJiLEQ\", \"review_count\": 2100, \"categories\": [{\"alias\": \"newamerican\", \"title\": \"American (New)\"}, {\"alias\": \"breakfast_brunch\", \"title\": \"Breakfast & Brunch\"}, {\"alias\": \"wine_bars\", \"title\": \"Wine Bars\"}], \"rating\": 4.0, \"coordinates\": {\"latitude\": 40.7454251, \"longitude\": -74.0056084}, \"transactions\": [\"delivery\", \"pickup\"], \"price\": \"$$\", \"location\": {\"address1\": \"156 10th Ave\", \"address2\": \"\", \"address3\": \"\", \"city\": \"New York\", \"zip_code\": \"10011\", \"country\": \"US\", \"state\": \"NY\", \"display_address\": [\"156 10th Ave\", \"New York, NY 10011\"]}, \"phone\": \"+12129244440\", \"display_phone\": \"(212) 924-4440\", \"distance\": 2799.3312228206055}, {\"id\": \"MctQwL9Mp5X7DJk13VoERg\", \"alias\": \"westville-chelsea-new-york-2\", \"name\": \"Westville Chelsea\", \"image_url\": \"https://s3-media4.fl.yelpcdn.com/bphoto/ePvwxoDmrJzWIWT16MWUwg/o.jpg\", \"is_closed\": false, \"url\": \"https://www.yelp.com/biz/westville-chelsea-new-york-2?adjust_creative=Wz4GJ_ekQQXft2olDJiLEQ&utm_campaign=yelp_api_v3&utm_medium=api_v3_business_search&utm_source=Wz4GJ_ekQQXft2olDJiLEQ\", \"review_count\": 1117, \"categories\": [{\"alias\": \"newamerican\", \"title\": \"American (New)\"}, {\"alias\": \"breakfast_brunch\", \"title\": \"Breakfast & Brunch\"}], \"rating\": 4.0, \"coordinates\": {\"latitude\": 40.74175, \"longitude\": -74.00007}, \"transactions\": [\"delivery\", \"pickup\"], \"price\": \"$$\", \"location\": {\"address1\": \"246 W 18th St\", \"address2\": \"\", \"address3\": \"\", \"city\": \"New York\", \"zip_code\": \"10011\", \"country\": \"US\", \"state\": \"NY\", \"display_address\": [\"246 W 18th St\", \"New York, NY 10011\"]}, \"phone\": \"+12129242223\", \"display_phone\": \"(212) 924-2223\", \"distance\": 2740.910422323877}, {\"id\": \"0Q13lJ3OHXOuBVpN6jeTjw\", \"alias\": \"tartine-new-york\", \"name\": \"Tartine\", \"image_url\": \"https://s3-media3.fl.yelpcdn.com/bphoto/QzBt1sosZayEzPf3WXYI-Q/o.jpg\", \"is_closed\": false, \"url\": \"https://www.yelp.com/biz/tartine-new-york?adjust_creative=Wz4GJ_ekQQXft2olDJiLEQ&utm_campaign=yelp_api_v3&utm_medium=api_v3_business_search&utm_source=Wz4GJ_ekQQXft2olDJiLEQ\", \"review_count\": 987, \"categories\": [{\"alias\": \"french\", \"title\": \"French\"}], \"rating\": 4.0, \"coordinates\": {\"latitude\": 40.7362899, \"longitude\": -74.00344}, \"transactions\": [\"delivery\", \"pickup\"], \"price\": \"$$\", \"location\": {\"address1\": \"253 W 11th St\", \"address2\": \"\", \"address3\": \"\", \"city\": \"New York\", \"zip_code\": \"10014\", \"country\": \"US\", \"state\": \"NY\", \"display_address\": [\"253 W 11th St\", \"New York, NY 10014\"]}, \"phone\": \"+12122292611\", \"display_phone\": \"(212) 229-2611\", \"distance\": 3390.2885275996996}, {\"id\": \"xt4sa64WOrpJvZBDPNPNYg\", \"alias\": \"jacobs-pickles-new-york\", \"name\": \"Jacob's Pickles\", \"image_url\": \"https://s3-media1.fl.yelpcdn.com/bphoto/lcDUyA-uX9TLlZyJHfZPnQ/o.jpg\", \"is_closed\": false, \"url\": \"https://www.yelp.com/biz/jacobs-pickles-new-york?adjust_creative=Wz4GJ_ekQQXft2olDJiLEQ&utm_campaign=yelp_api_v3&utm_medium=api_v3_business_search&utm_source=Wz4GJ_ekQQXft2olDJiLEQ\", \"review_count\": 4166, \"categories\": [{\"alias\": \"comfortfood\", \"title\": \"Comfort Food\"}, {\"alias\": \"southern\", \"title\": \"Southern\"}, {\"alias\": \"tradamerican\", \"title\": \"American (Traditional)\"}], \"rating\": 4.0, \"coordinates\": {\"latitude\": 40.7866504411994, \"longitude\": -73.9755284786224}, \"transactions\": [\"delivery\", \"pickup\"], \"price\": \"$$\", \"location\": {\"address1\": \"509 Amsterdam Ave\", \"address2\": \"\", \"address3\": \"\", \"city\": \"New York\", \"zip_code\": \"10024\", \"country\": \"US\", \"state\": \"NY\", \"display_address\": [\"509 Amsterdam Ave\", \"New York, NY 10024\"]}, \"phone\": \"+12124705566\", \"display_phone\": \"(212) 470-5566\", \"distance\": 2950.1271947570417}, {\"id\": \"PYmjoid5P-Mw8dkkKxZy6w\", \"alias\": \"harvest-kitchen-new-york\", \"name\": \"Harvest Kitchen\", \"image_url\": \"https://s3-media2.fl.yelpcdn.com/bphoto/emDZdfrEUXhFvspbWe5aHQ/o.jpg\", \"is_closed\": false, \"url\": \"https://www.yelp.com/biz/harvest-kitchen-new-york?adjust_creative=Wz4GJ_ekQQXft2olDJiLEQ&utm_campaign=yelp_api_v3&utm_medium=api_v3_business_search&utm_source=Wz4GJ_ekQQXft2olDJiLEQ\", \"review_count\": 122, \"categories\": [{\"alias\": \"newamerican\", \"title\": \"American (New)\"}, {\"alias\": \"breakfast_brunch\", \"title\": \"Breakfast & Brunch\"}], \"rating\": 4.0, \"coordinates\": {\"latitude\": 40.777697, \"longitude\": -73.978357}, \"transactions\": [\"delivery\", \"pickup\"], \"price\": \"$$\", \"location\": {\"address1\": \"269 Columbus Ave\", \"address2\": \"\", \"address3\": null, \"city\": \"New York\", \"zip_code\": \"10023\", \"country\": \"US\", \"state\": \"NY\", \"display_address\": [\"269 Columbus Ave\", \"New York, NY 10023\"]}, \"phone\": \"+16468700810\", \"display_phone\": \"(646) 870-0810\", \"distance\": 1956.1229839689568}], \"total\": 2700, \"region\": {\"center\": {\"longitude\": -73.97850036621094, \"latitude\": 40.76021491079617}}}\n"
     ]
    }
   ],
   "source": [
    "# now we are ready to get our data \n",
    "\n",
    "# usually, services would limit you to a certain amount of API calls. This varies from service\n",
    "# to service, so you have to watch out to it \n",
    "\n",
    "term = 'mimosa_brunch'\n",
    "location = 'Manhattan'\n",
    "SEARCH_LIMIT = 20\n",
    "url = 'https://api.yelp.com/v3/businesses/search'\n",
    "\n",
    "headers = {\n",
    "        'Authorization': 'Bearer {}'.format(MY_API_KEY),\n",
    "    }\n",
    "\n",
    "url_params = {\n",
    "                'term': term.replace(' ', '+'),\n",
    "                'location': location.replace(' ', '+'),\n",
    "                'limit': SEARCH_LIMIT\n",
    "            }\n",
    "response = requests.get(url, headers=headers, params=url_params)\n",
    "print(response)\n",
    "print(type(response.text))\n",
    "print(response.text)"
   ]
  },
  {
   "cell_type": "code",
   "execution_count": 90,
   "metadata": {},
   "outputs": [],
   "source": [
    "# cleaning and formatting the data\n",
    "mimosa_brunch = response.text\n",
    "mimosa_brunch = json.loads(mimosa_brunch)"
   ]
  },
  {
   "cell_type": "code",
   "execution_count": 91,
   "metadata": {
    "scrolled": false
   },
   "outputs": [
    {
     "name": "stdout",
     "output_type": "stream",
     "text": [
      "businesses\n",
      "total\n",
      "region\n"
     ]
    }
   ],
   "source": [
    "# cleaning and exploring the data\n",
    "for key in mimosa_brunch.keys():\n",
    "    print(key)"
   ]
  },
  {
   "cell_type": "code",
   "execution_count": 92,
   "metadata": {
    "scrolled": false
   },
   "outputs": [
    {
     "data": {
      "text/plain": [
       "dict_keys(['id', 'alias', 'name', 'image_url', 'is_closed', 'url', 'review_count', 'categories', 'rating', 'coordinates', 'transactions', 'price', 'location', 'phone', 'display_phone', 'distance'])"
      ]
     },
     "execution_count": 92,
     "metadata": {},
     "output_type": "execute_result"
    }
   ],
   "source": [
    "# examine the first element of businesses\n",
    "mimosa_brunch['businesses'][0].keys()"
   ]
  },
  {
   "cell_type": "code",
   "execution_count": 93,
   "metadata": {
    "scrolled": false
   },
   "outputs": [
    {
     "data": {
      "text/html": [
       "<div>\n",
       "<style scoped>\n",
       "    .dataframe tbody tr th:only-of-type {\n",
       "        vertical-align: middle;\n",
       "    }\n",
       "\n",
       "    .dataframe tbody tr th {\n",
       "        vertical-align: top;\n",
       "    }\n",
       "\n",
       "    .dataframe thead th {\n",
       "        text-align: right;\n",
       "    }\n",
       "</style>\n",
       "<table border=\"1\" class=\"dataframe\">\n",
       "  <thead>\n",
       "    <tr style=\"text-align: right;\">\n",
       "      <th></th>\n",
       "      <th>id</th>\n",
       "      <th>alias</th>\n",
       "      <th>name</th>\n",
       "      <th>image_url</th>\n",
       "      <th>is_closed</th>\n",
       "      <th>url</th>\n",
       "      <th>review_count</th>\n",
       "      <th>categories</th>\n",
       "      <th>rating</th>\n",
       "      <th>coordinates</th>\n",
       "      <th>transactions</th>\n",
       "      <th>price</th>\n",
       "      <th>location</th>\n",
       "      <th>phone</th>\n",
       "      <th>display_phone</th>\n",
       "      <th>distance</th>\n",
       "    </tr>\n",
       "  </thead>\n",
       "  <tbody>\n",
       "    <tr>\n",
       "      <th>0</th>\n",
       "      <td>C-8mGN7lt5rIraO5n-15ug</td>\n",
       "      <td>the-smith-new-york-2</td>\n",
       "      <td>The Smith</td>\n",
       "      <td>https://s3-media2.fl.yelpcdn.com/bphoto/mnScad...</td>\n",
       "      <td>False</td>\n",
       "      <td>https://www.yelp.com/biz/the-smith-new-york-2?...</td>\n",
       "      <td>2637</td>\n",
       "      <td>[{'alias': 'newamerican', 'title': 'American (...</td>\n",
       "      <td>4.0</td>\n",
       "      <td>{'latitude': 40.755165, 'longitude': -73.967868}</td>\n",
       "      <td>[delivery, pickup]</td>\n",
       "      <td>$$</td>\n",
       "      <td>{'address1': '956 2nd Ave', 'address2': '', 'a...</td>\n",
       "      <td>+12126442700</td>\n",
       "      <td>(212) 644-2700</td>\n",
       "      <td>1057.022965</td>\n",
       "    </tr>\n",
       "    <tr>\n",
       "      <th>1</th>\n",
       "      <td>cCesIqo-LQt0cRlZAnrAZQ</td>\n",
       "      <td>friedmans-new-york-59</td>\n",
       "      <td>Friedman's</td>\n",
       "      <td>https://s3-media1.fl.yelpcdn.com/bphoto/c9vZKJ...</td>\n",
       "      <td>False</td>\n",
       "      <td>https://www.yelp.com/biz/friedmans-new-york-59...</td>\n",
       "      <td>2451</td>\n",
       "      <td>[{'alias': 'newamerican', 'title': 'American (...</td>\n",
       "      <td>4.0</td>\n",
       "      <td>{'latitude': 40.748297, 'longitude': -73.990649}</td>\n",
       "      <td>[delivery, pickup]</td>\n",
       "      <td>$$</td>\n",
       "      <td>{'address1': '132 W 31st St', 'address2': '', ...</td>\n",
       "      <td>+12129719400</td>\n",
       "      <td>(212) 971-9400</td>\n",
       "      <td>1674.314433</td>\n",
       "    </tr>\n",
       "    <tr>\n",
       "      <th>2</th>\n",
       "      <td>uoT2_Wrt1noD6kZOID7tUg</td>\n",
       "      <td>jane-new-york-2</td>\n",
       "      <td>Jane</td>\n",
       "      <td>https://s3-media1.fl.yelpcdn.com/bphoto/J6okAA...</td>\n",
       "      <td>False</td>\n",
       "      <td>https://www.yelp.com/biz/jane-new-york-2?adjus...</td>\n",
       "      <td>3152</td>\n",
       "      <td>[{'alias': 'breakfast_brunch', 'title': 'Break...</td>\n",
       "      <td>4.0</td>\n",
       "      <td>{'latitude': 40.72732, 'longitude': -74.00026}</td>\n",
       "      <td>[delivery, pickup]</td>\n",
       "      <td>$$</td>\n",
       "      <td>{'address1': '100 W Houston St', 'address2': '...</td>\n",
       "      <td>+12122547000</td>\n",
       "      <td>(212) 254-7000</td>\n",
       "      <td>4083.282656</td>\n",
       "    </tr>\n",
       "    <tr>\n",
       "      <th>3</th>\n",
       "      <td>Me4TxTbPPQZQopW1wOGx5g</td>\n",
       "      <td>jacks-wife-freda-new-york</td>\n",
       "      <td>Jack's Wife Freda</td>\n",
       "      <td>https://s3-media2.fl.yelpcdn.com/bphoto/Va1x-2...</td>\n",
       "      <td>False</td>\n",
       "      <td>https://www.yelp.com/biz/jacks-wife-freda-new-...</td>\n",
       "      <td>1902</td>\n",
       "      <td>[{'alias': 'breakfast_brunch', 'title': 'Break...</td>\n",
       "      <td>4.0</td>\n",
       "      <td>{'latitude': 40.72213, 'longitude': -73.99756}</td>\n",
       "      <td>[]</td>\n",
       "      <td>$$</td>\n",
       "      <td>{'address1': '224 Lafayette St', 'address2': '...</td>\n",
       "      <td>+12125108550</td>\n",
       "      <td>(212) 510-8550</td>\n",
       "      <td>4528.804323</td>\n",
       "    </tr>\n",
       "    <tr>\n",
       "      <th>4</th>\n",
       "      <td>FrYsIO_pXB6csWkvy-nfbQ</td>\n",
       "      <td>made-in-mexico-harlem-new-york</td>\n",
       "      <td>Made In Mexico Harlem</td>\n",
       "      <td>https://s3-media1.fl.yelpcdn.com/bphoto/YjxH7b...</td>\n",
       "      <td>False</td>\n",
       "      <td>https://www.yelp.com/biz/made-in-mexico-harlem...</td>\n",
       "      <td>113</td>\n",
       "      <td>[{'alias': 'cocktailbars', 'title': 'Cocktail ...</td>\n",
       "      <td>3.5</td>\n",
       "      <td>{'latitude': 40.7940072130959, 'longitude': -7...</td>\n",
       "      <td>[delivery, pickup]</td>\n",
       "      <td>$$</td>\n",
       "      <td>{'address1': '2161 2nd Ave', 'address2': '', '...</td>\n",
       "      <td>+19172658408</td>\n",
       "      <td>(917) 265-8408</td>\n",
       "      <td>4949.834794</td>\n",
       "    </tr>\n",
       "  </tbody>\n",
       "</table>\n",
       "</div>"
      ],
      "text/plain": [
       "                       id                           alias  \\\n",
       "0  C-8mGN7lt5rIraO5n-15ug            the-smith-new-york-2   \n",
       "1  cCesIqo-LQt0cRlZAnrAZQ           friedmans-new-york-59   \n",
       "2  uoT2_Wrt1noD6kZOID7tUg                 jane-new-york-2   \n",
       "3  Me4TxTbPPQZQopW1wOGx5g       jacks-wife-freda-new-york   \n",
       "4  FrYsIO_pXB6csWkvy-nfbQ  made-in-mexico-harlem-new-york   \n",
       "\n",
       "                    name                                          image_url  \\\n",
       "0              The Smith  https://s3-media2.fl.yelpcdn.com/bphoto/mnScad...   \n",
       "1             Friedman's  https://s3-media1.fl.yelpcdn.com/bphoto/c9vZKJ...   \n",
       "2                   Jane  https://s3-media1.fl.yelpcdn.com/bphoto/J6okAA...   \n",
       "3      Jack's Wife Freda  https://s3-media2.fl.yelpcdn.com/bphoto/Va1x-2...   \n",
       "4  Made In Mexico Harlem  https://s3-media1.fl.yelpcdn.com/bphoto/YjxH7b...   \n",
       "\n",
       "   is_closed                                                url  review_count  \\\n",
       "0      False  https://www.yelp.com/biz/the-smith-new-york-2?...          2637   \n",
       "1      False  https://www.yelp.com/biz/friedmans-new-york-59...          2451   \n",
       "2      False  https://www.yelp.com/biz/jane-new-york-2?adjus...          3152   \n",
       "3      False  https://www.yelp.com/biz/jacks-wife-freda-new-...          1902   \n",
       "4      False  https://www.yelp.com/biz/made-in-mexico-harlem...           113   \n",
       "\n",
       "                                          categories  rating  \\\n",
       "0  [{'alias': 'newamerican', 'title': 'American (...     4.0   \n",
       "1  [{'alias': 'newamerican', 'title': 'American (...     4.0   \n",
       "2  [{'alias': 'breakfast_brunch', 'title': 'Break...     4.0   \n",
       "3  [{'alias': 'breakfast_brunch', 'title': 'Break...     4.0   \n",
       "4  [{'alias': 'cocktailbars', 'title': 'Cocktail ...     3.5   \n",
       "\n",
       "                                         coordinates        transactions  \\\n",
       "0   {'latitude': 40.755165, 'longitude': -73.967868}  [delivery, pickup]   \n",
       "1   {'latitude': 40.748297, 'longitude': -73.990649}  [delivery, pickup]   \n",
       "2     {'latitude': 40.72732, 'longitude': -74.00026}  [delivery, pickup]   \n",
       "3     {'latitude': 40.72213, 'longitude': -73.99756}                  []   \n",
       "4  {'latitude': 40.7940072130959, 'longitude': -7...  [delivery, pickup]   \n",
       "\n",
       "  price                                           location         phone  \\\n",
       "0    $$  {'address1': '956 2nd Ave', 'address2': '', 'a...  +12126442700   \n",
       "1    $$  {'address1': '132 W 31st St', 'address2': '', ...  +12129719400   \n",
       "2    $$  {'address1': '100 W Houston St', 'address2': '...  +12122547000   \n",
       "3    $$  {'address1': '224 Lafayette St', 'address2': '...  +12125108550   \n",
       "4    $$  {'address1': '2161 2nd Ave', 'address2': '', '...  +19172658408   \n",
       "\n",
       "    display_phone     distance  \n",
       "0  (212) 644-2700  1057.022965  \n",
       "1  (212) 971-9400  1674.314433  \n",
       "2  (212) 254-7000  4083.282656  \n",
       "3  (212) 510-8550  4528.804323  \n",
       "4  (917) 265-8408  4949.834794  "
      ]
     },
     "execution_count": 93,
     "metadata": {},
     "output_type": "execute_result"
    }
   ],
   "source": [
    "mimosa_brunch_df = pd.DataFrame.from_dict(mimosa_brunch['businesses'])\n",
    "mimosa_brunch_df.head()"
   ]
  },
  {
   "cell_type": "code",
   "execution_count": 112,
   "metadata": {},
   "outputs": [
    {
     "data": {
      "text/plain": [
       "[4.5,\n",
       " 4.5,\n",
       " 4.0,\n",
       " 4.0,\n",
       " 4.0,\n",
       " 4.0,\n",
       " 4.0,\n",
       " 4.0,\n",
       " 4.0,\n",
       " 4.0,\n",
       " 4.0,\n",
       " 4.0,\n",
       " 4.0,\n",
       " 4.0,\n",
       " 4.0,\n",
       " 4.0,\n",
       " 4.0,\n",
       " 4.0,\n",
       " 4.0,\n",
       " 3.5]"
      ]
     },
     "execution_count": 112,
     "metadata": {},
     "output_type": "execute_result"
    }
   ],
   "source": [
    "list(mimosa_brunch_df.rating.sort_values(ascending=False))"
   ]
  },
  {
   "cell_type": "code",
   "execution_count": 113,
   "metadata": {},
   "outputs": [],
   "source": [
    "y=list(mimosa_brunch_df.rating.sort_values(ascending=True))\n",
    "x=list(mimosa_brunch_df.name)"
   ]
  },
  {
   "cell_type": "code",
   "execution_count": 115,
   "metadata": {
    "scrolled": true
   },
   "outputs": [
    {
     "data": {
      "text/plain": [
       "([<matplotlib.axis.XTick at 0x7f928aeaabb0>,\n",
       "  <matplotlib.axis.XTick at 0x7f928aeaab80>,\n",
       "  <matplotlib.axis.XTick at 0x7f928aeaa370>,\n",
       "  <matplotlib.axis.XTick at 0x7f928afdf7f0>,\n",
       "  <matplotlib.axis.XTick at 0x7f928afdfd00>,\n",
       "  <matplotlib.axis.XTick at 0x7f928afe8250>,\n",
       "  <matplotlib.axis.XTick at 0x7f928afe8760>,\n",
       "  <matplotlib.axis.XTick at 0x7f928afdf550>,\n",
       "  <matplotlib.axis.XTick at 0x7f928afe8ac0>,\n",
       "  <matplotlib.axis.XTick at 0x7f928afe8fd0>,\n",
       "  <matplotlib.axis.XTick at 0x7f928afee520>],\n",
       " <a list of 11 Text major ticklabel objects>)"
      ]
     },
     "execution_count": 115,
     "metadata": {},
     "output_type": "execute_result"
    },
    {
     "data": {
      "image/png": "[encoded data removed]",
      "text/plain": [
       "<Figure size 576x396 with 1 Axes>"
      ]
     },
     "metadata": {},
     "output_type": "display_data"
    }
   ],
   "source": [
    "# you can do some analysis and visualization from here on! \n",
    "\n",
    "plt.barh(x, y, color='red', alpha = 0.8)\n",
    "plt.title('Top 20 Restaurants for Mimosa Brunches in Manhattan')\n",
    "plt.xlabel('Rating')\n",
    "plt.ylabel('Restaurants')\n",
    "\n",
    "plt.xticks(np.arange(0,5.5,.5))\n"
   ]
  },
  {
   "cell_type": "code",
   "execution_count": null,
   "metadata": {},
   "outputs": [],
   "source": [
    "# query the name of the axe throwing place with the highest review\n",
    "mimosa_brunch_df.sort_values(by = 'review_count', ascending = False).name.reset_index(drop = True)[0]\n"
   ]
  },
  {
   "cell_type": "code",
   "execution_count": null,
   "metadata": {},
   "outputs": [],
   "source": [
    "# can you do some other queries using sql/pandas?"
   ]
  },
  {
   "cell_type": "markdown",
   "metadata": {},
   "source": [
    "#### Resources\n",
    "- [Getting Data from Reddit API](https://www.storybench.org/how-to-scrape-reddit-with-python/)\n",
    "- [Twitch API](https://dev.twitch.tv/docs)"
   ]
  }
 ],
 "metadata": {
  "kernelspec": {
   "display_name": "Python 3",
   "language": "python",
   "name": "python3"
  },
  "language_info": {
   "codemirror_mode": {
    "name": "ipython",
    "version": 3
   },
   "file_extension": ".py",
   "mimetype": "text/x-python",
   "name": "python",
   "nbconvert_exporter": "python",
   "pygments_lexer": "ipython3",
   "version": "3.8.3"
  }
 },
 "nbformat": 4,
 "nbformat_minor": 2
}
